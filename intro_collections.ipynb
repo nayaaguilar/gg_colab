{
  "nbformat": 4,
  "nbformat_minor": 0,
  "metadata": {
    "colab": {
      "provenance": []
    },
    "kernelspec": {
      "name": "python3",
      "display_name": "Python 3"
    },
    "language_info": {
      "name": "python"
    }
  },
  "cells": [
    {
      "cell_type": "code",
      "execution_count": null,
      "metadata": {
        "id": "2WxwDWw4EUMf"
      },
      "outputs": [],
      "source": [
        "# coleções servem para quando queremos trabalhar com diversos valores do mesmo tipo"
      ]
    },
    {
      "cell_type": "code",
      "source": [
        "idades = [39, 30, 27, 18] #sequencia de acesso aleatório por posição\n",
        "type(idades)"
      ],
      "metadata": {
        "colab": {
          "base_uri": "https://localhost:8080/"
        },
        "id": "DzF6oXEjEhKd",
        "outputId": "0b09735f-444a-4d21-b0fb-5e0bbc28ba86"
      },
      "execution_count": null,
      "outputs": [
        {
          "output_type": "execute_result",
          "data": {
            "text/plain": [
              "list"
            ]
          },
          "metadata": {},
          "execution_count": 3
        }
      ]
    },
    {
      "cell_type": "code",
      "source": [
        "len(idades)"
      ],
      "metadata": {
        "colab": {
          "base_uri": "https://localhost:8080/"
        },
        "id": "V56QcW6ZE5dB",
        "outputId": "0424926d-1a1f-4e61-9e1c-a10f484c5a38"
      },
      "execution_count": null,
      "outputs": [
        {
          "output_type": "execute_result",
          "data": {
            "text/plain": [
              "4"
            ]
          },
          "metadata": {},
          "execution_count": 3
        }
      ]
    },
    {
      "cell_type": "code",
      "source": [
        "idades[0]"
      ],
      "metadata": {
        "colab": {
          "base_uri": "https://localhost:8080/"
        },
        "id": "LjmWvPguE7b9",
        "outputId": "4f49baad-5db9-416b-9f75-e4d3af6d99b4"
      },
      "execution_count": null,
      "outputs": [
        {
          "output_type": "execute_result",
          "data": {
            "text/plain": [
              "39"
            ]
          },
          "metadata": {},
          "execution_count": 4
        }
      ]
    },
    {
      "cell_type": "code",
      "source": [
        "idades"
      ],
      "metadata": {
        "colab": {
          "base_uri": "https://localhost:8080/"
        },
        "id": "153KmmDSE-ij",
        "outputId": "53d24d09-f30f-4170-8aa1-95d2d1a96c13"
      },
      "execution_count": null,
      "outputs": [
        {
          "output_type": "execute_result",
          "data": {
            "text/plain": [
              "[39, 30, 27, 18]"
            ]
          },
          "metadata": {},
          "execution_count": 5
        }
      ]
    },
    {
      "cell_type": "code",
      "source": [
        "print(idades[1])"
      ],
      "metadata": {
        "colab": {
          "base_uri": "https://localhost:8080/"
        },
        "id": "Fqw5nfq4FAcW",
        "outputId": "d77386f5-73ae-44c3-cb4e-bed00bb0d0ef"
      },
      "execution_count": null,
      "outputs": [
        {
          "output_type": "stream",
          "name": "stdout",
          "text": [
            "30\n"
          ]
        }
      ]
    },
    {
      "cell_type": "code",
      "source": [
        "idades.append(15) #adiciona no final da lista"
      ],
      "metadata": {
        "id": "4CVAAVD9FOoF"
      },
      "execution_count": null,
      "outputs": []
    },
    {
      "cell_type": "code",
      "source": [
        "idades"
      ],
      "metadata": {
        "colab": {
          "base_uri": "https://localhost:8080/"
        },
        "id": "eoSa4cnQFSvZ",
        "outputId": "c689d4df-0713-4e26-b5bc-f640be03da57"
      },
      "execution_count": null,
      "outputs": [
        {
          "output_type": "execute_result",
          "data": {
            "text/plain": [
              "[39, 30, 27, 18, 15]"
            ]
          },
          "metadata": {},
          "execution_count": 8
        }
      ]
    },
    {
      "cell_type": "code",
      "source": [
        "idades[4]"
      ],
      "metadata": {
        "colab": {
          "base_uri": "https://localhost:8080/"
        },
        "id": "Wk0DhNbLFTlX",
        "outputId": "1b38265a-f42b-4b92-a032-8f4c831322a7"
      },
      "execution_count": null,
      "outputs": [
        {
          "output_type": "execute_result",
          "data": {
            "text/plain": [
              "15"
            ]
          },
          "metadata": {},
          "execution_count": 9
        }
      ]
    },
    {
      "cell_type": "code",
      "source": [
        "for idade in idades:\n",
        "  print(idade)"
      ],
      "metadata": {
        "colab": {
          "base_uri": "https://localhost:8080/"
        },
        "id": "rOItHgOaFWd7",
        "outputId": "9b8d9b07-4857-4238-96b3-da7efa2abb2c"
      },
      "execution_count": null,
      "outputs": [
        {
          "output_type": "stream",
          "name": "stdout",
          "text": [
            "39\n",
            "30\n",
            "27\n",
            "18\n",
            "15\n"
          ]
        }
      ]
    },
    {
      "cell_type": "code",
      "source": [
        "idades.remove(30) #remove elemento da lista"
      ],
      "metadata": {
        "id": "T1XuExh1FgFh"
      },
      "execution_count": null,
      "outputs": []
    },
    {
      "cell_type": "code",
      "source": [
        "idades"
      ],
      "metadata": {
        "colab": {
          "base_uri": "https://localhost:8080/"
        },
        "id": "SmRrFS10FpVX",
        "outputId": "b6f39c25-288c-4cf7-c3fb-298e2189efb8"
      },
      "execution_count": null,
      "outputs": [
        {
          "output_type": "execute_result",
          "data": {
            "text/plain": [
              "[39, 27, 18, 15]"
            ]
          },
          "metadata": {},
          "execution_count": 14
        }
      ]
    },
    {
      "cell_type": "code",
      "source": [
        "idades.pop(1) #remove o elemento da lista de acordo com a posição desejada"
      ],
      "metadata": {
        "colab": {
          "base_uri": "https://localhost:8080/"
        },
        "id": "HVQk28nuFqOr",
        "outputId": "dc7a2ba0-c9ca-4ac0-f9b3-eea47a47a44c"
      },
      "execution_count": null,
      "outputs": [
        {
          "output_type": "execute_result",
          "data": {
            "text/plain": [
              "27"
            ]
          },
          "metadata": {},
          "execution_count": 16
        }
      ]
    },
    {
      "cell_type": "code",
      "source": [
        "idades"
      ],
      "metadata": {
        "colab": {
          "base_uri": "https://localhost:8080/"
        },
        "id": "6IeANejeF1T_",
        "outputId": "2e6cdb67-f11f-4b22-f44c-8d35a09b2d62"
      },
      "execution_count": null,
      "outputs": [
        {
          "output_type": "execute_result",
          "data": {
            "text/plain": [
              "[39, 18, 15]"
            ]
          },
          "metadata": {},
          "execution_count": 17
        }
      ]
    },
    {
      "cell_type": "code",
      "source": [
        "idades.append(15)"
      ],
      "metadata": {
        "id": "KEAaSc6mF8yB"
      },
      "execution_count": null,
      "outputs": []
    },
    {
      "cell_type": "code",
      "source": [
        "idades"
      ],
      "metadata": {
        "colab": {
          "base_uri": "https://localhost:8080/"
        },
        "id": "YZ2-RFJYGJC2",
        "outputId": "841d7769-9b32-4068-a1b2-84fc4da033f6"
      },
      "execution_count": null,
      "outputs": [
        {
          "output_type": "execute_result",
          "data": {
            "text/plain": [
              "[39, 18, 15, 15]"
            ]
          },
          "metadata": {},
          "execution_count": 19
        }
      ]
    },
    {
      "cell_type": "code",
      "source": [
        "idades.remove(15) #remove a 1ª aparição do elemento na lista"
      ],
      "metadata": {
        "id": "i3BDeNkPGJxB"
      },
      "execution_count": null,
      "outputs": []
    },
    {
      "cell_type": "code",
      "source": [
        "idades"
      ],
      "metadata": {
        "colab": {
          "base_uri": "https://localhost:8080/"
        },
        "id": "KeSDo1V9GN3h",
        "outputId": "c57970bd-e1c0-4d1c-a37d-ee093f5d2817"
      },
      "execution_count": null,
      "outputs": [
        {
          "output_type": "execute_result",
          "data": {
            "text/plain": [
              "[39, 18, 15]"
            ]
          },
          "metadata": {},
          "execution_count": 22
        }
      ]
    },
    {
      "cell_type": "code",
      "source": [
        "if 15 in idades:\n",
        "  idades.remove(15) #remove a primeira aparicao do elemento na lista - usar para duplicidade\n",
        "  print(idades)"
      ],
      "metadata": {
        "id": "k1CXbGSeGUhp",
        "colab": {
          "base_uri": "https://localhost:8080/"
        },
        "outputId": "7e8959ef-337f-46a7-f378-ee0ac0a2ce1a"
      },
      "execution_count": null,
      "outputs": [
        {
          "output_type": "stream",
          "name": "stdout",
          "text": [
            "[39, 30, 27, 18]\n"
          ]
        }
      ]
    },
    {
      "cell_type": "code",
      "source": [
        "idades.insert(0, 20) #add element in a especific index\n",
        "print(idades)"
      ],
      "metadata": {
        "colab": {
          "base_uri": "https://localhost:8080/"
        },
        "id": "TM-77sDXDzcx",
        "outputId": "6e17fe97-ee93-406b-b06e-b089dbc98560"
      },
      "execution_count": null,
      "outputs": [
        {
          "output_type": "stream",
          "name": "stdout",
          "text": [
            "[20, 39, 30, 27, 18]\n"
          ]
        }
      ]
    },
    {
      "cell_type": "code",
      "source": [
        "idades.append([21, 19])\n"
      ],
      "metadata": {
        "id": "ovGt1g1sEP_-"
      },
      "execution_count": null,
      "outputs": []
    },
    {
      "cell_type": "code",
      "source": [
        "idades"
      ],
      "metadata": {
        "colab": {
          "base_uri": "https://localhost:8080/"
        },
        "id": "OJ0XKhVqEnaZ",
        "outputId": "bce6d332-a27d-4a73-bda9-f02b52dd7331"
      },
      "execution_count": null,
      "outputs": [
        {
          "output_type": "execute_result",
          "data": {
            "text/plain": [
              "[20, 39, 30, 27, 18, [21, 19]]"
            ]
          },
          "metadata": {},
          "execution_count": 8
        }
      ]
    },
    {
      "cell_type": "code",
      "source": [
        "for elemento in idades:\n",
        "  print(f'recebi o elemento {elemento}')"
      ],
      "metadata": {
        "colab": {
          "base_uri": "https://localhost:8080/"
        },
        "id": "qOmUyFDjEtHb",
        "outputId": "4ec4a57f-4f4c-41c3-8888-4b739149dca4"
      },
      "execution_count": null,
      "outputs": [
        {
          "output_type": "stream",
          "name": "stdout",
          "text": [
            "recebi o elemento 20\n",
            "recebi o elemento 39\n",
            "recebi o elemento 30\n",
            "recebi o elemento 27\n",
            "recebi o elemento 18\n",
            "recebi o elemento [21, 19]\n"
          ]
        }
      ]
    },
    {
      "cell_type": "code",
      "source": [
        "idades = [30, 27, 18]\n",
        "idades.extend([10, 20]) #add as many iterables as you want on the list\n",
        "print(idades)"
      ],
      "metadata": {
        "colab": {
          "base_uri": "https://localhost:8080/"
        },
        "id": "6jf6a1kNFKWc",
        "outputId": "7f212b6e-1d88-4ba7-e629-95573eec745f"
      },
      "execution_count": null,
      "outputs": [
        {
          "output_type": "stream",
          "name": "stdout",
          "text": [
            "[30, 27, 18, 10, 20]\n"
          ]
        }
      ]
    },
    {
      "cell_type": "code",
      "source": [
        "for idade in idades:\n",
        "  print(idade +1)"
      ],
      "metadata": {
        "colab": {
          "base_uri": "https://localhost:8080/"
        },
        "id": "94zuSPAoGPH0",
        "outputId": "c985dcf9-a76e-41a5-f0dd-464a2afbd9a2"
      },
      "execution_count": null,
      "outputs": [
        {
          "output_type": "stream",
          "name": "stdout",
          "text": [
            "31\n",
            "28\n",
            "19\n",
            "11\n",
            "21\n"
          ]
        }
      ]
    },
    {
      "cell_type": "code",
      "source": [
        "idades_ano_que_vem = []\n",
        "for idade in idades:\n",
        "  idades_ano_que_vem.append(idade+1)\n",
        "idades_ano_que_vem"
      ],
      "metadata": {
        "colab": {
          "base_uri": "https://localhost:8080/"
        },
        "id": "cMpUUIUgGqyZ",
        "outputId": "85a56850-4e5a-44be-aaa7-090a12a9bba3"
      },
      "execution_count": null,
      "outputs": [
        {
          "output_type": "execute_result",
          "data": {
            "text/plain": [
              "[31, 28, 19, 11, 21]"
            ]
          },
          "metadata": {},
          "execution_count": 19
        }
      ]
    },
    {
      "cell_type": "code",
      "source": [
        "idades_no_ano_que_vem = [(idade+1) for idade in idades] #list comprehension\n",
        "print(idades_no_ano_que_vem)"
      ],
      "metadata": {
        "colab": {
          "base_uri": "https://localhost:8080/"
        },
        "id": "U7QkFSciHVYZ",
        "outputId": "6b0a2f29-5082-4a65-b973-b81bb568d4a9"
      },
      "execution_count": null,
      "outputs": [
        {
          "output_type": "stream",
          "name": "stdout",
          "text": [
            "[31, 28, 19, 11, 21]\n"
          ]
        }
      ]
    },
    {
      "cell_type": "code",
      "source": [
        "[(idade)for idade in idades if idade > 21]"
      ],
      "metadata": {
        "colab": {
          "base_uri": "https://localhost:8080/"
        },
        "id": "UvXsLjwcIjLO",
        "outputId": "6f9218f7-743f-4a12-b2c2-be3b837d7653"
      },
      "execution_count": null,
      "outputs": [
        {
          "output_type": "execute_result",
          "data": {
            "text/plain": [
              "[30, 27]"
            ]
          },
          "metadata": {},
          "execution_count": 28
        }
      ]
    },
    {
      "cell_type": "code",
      "source": [
        "def proximo_ano(idade):\n",
        "  return idade+1\n",
        "\n",
        "[proximo_ano(idade) for idade in idades if idade > 21]\n"
      ],
      "metadata": {
        "colab": {
          "base_uri": "https://localhost:8080/"
        },
        "id": "JnYzScv2JA68",
        "outputId": "31f7b498-2f74-410f-de03-ab741344b52c"
      },
      "execution_count": null,
      "outputs": [
        {
          "output_type": "execute_result",
          "data": {
            "text/plain": [
              "[31, 28]"
            ]
          },
          "metadata": {},
          "execution_count": 30
        }
      ]
    },
    {
      "cell_type": "code",
      "source": [
        "def faz_processamento_de_visualizacao(lista):\n",
        "  print(len(lista))"
      ],
      "metadata": {
        "id": "2WQtxN2mJodl"
      },
      "execution_count": null,
      "outputs": []
    },
    {
      "cell_type": "code",
      "source": [
        "idades = [16, 21, 29, 56, 43]\n",
        "faz_processamento_de_visualizacao(idades)\n",
        "idades"
      ],
      "metadata": {
        "colab": {
          "base_uri": "https://localhost:8080/"
        },
        "id": "wyGQbOPZJ5N2",
        "outputId": "d123dc3c-4f6f-4f7c-fdcd-07dc2838878b"
      },
      "execution_count": null,
      "outputs": [
        {
          "output_type": "stream",
          "name": "stdout",
          "text": [
            "5\n"
          ]
        },
        {
          "output_type": "execute_result",
          "data": {
            "text/plain": [
              "[16, 21, 29, 56, 43]"
            ]
          },
          "metadata": {},
          "execution_count": 33
        }
      ]
    },
    {
      "cell_type": "code",
      "source": [
        "def faz_processamento_de_visualizacao(lista = list()): #wrong way to add\n",
        "  print(len(lista))\n",
        "  print(lista)\n",
        "  lista.append(13)"
      ],
      "metadata": {
        "id": "H-VFkO3AMmwS"
      },
      "execution_count": null,
      "outputs": []
    },
    {
      "cell_type": "code",
      "source": [
        "faz_processamento_de_visualizacao()\n",
        "faz_processamento_de_visualizacao()\n",
        "faz_processamento_de_visualizacao()\n",
        "faz_processamento_de_visualizacao()"
      ],
      "metadata": {
        "colab": {
          "base_uri": "https://localhost:8080/"
        },
        "id": "2wsTCFPNM0xO",
        "outputId": "10473ce4-0069-4de5-c583-9fe09e75eca6"
      },
      "execution_count": null,
      "outputs": [
        {
          "output_type": "stream",
          "name": "stdout",
          "text": [
            "7\n",
            "[13, 13, 13, 13, 13, 13, 13]\n",
            "8\n",
            "[13, 13, 13, 13, 13, 13, 13, 13]\n",
            "9\n",
            "[13, 13, 13, 13, 13, 13, 13, 13, 13]\n",
            "10\n",
            "[13, 13, 13, 13, 13, 13, 13, 13, 13, 13]\n"
          ]
        }
      ]
    },
    {
      "cell_type": "code",
      "source": [
        "def faz_processamento_de_visualizacao(lista = None): #right way to add an element on the list\n",
        "  if lista == None:\n",
        "    lista = list()\n",
        "    lista.extend([1, 2, 3])\n",
        "  print(f'tamanho da lista', len(lista))\n",
        "  print(lista)\n"
      ],
      "metadata": {
        "id": "DqDCN23GLx2s"
      },
      "execution_count": null,
      "outputs": []
    },
    {
      "cell_type": "code",
      "source": [
        "faz_processamento_de_visualizacao()\n"
      ],
      "metadata": {
        "colab": {
          "base_uri": "https://localhost:8080/"
        },
        "id": "SvfYllhzMBB-",
        "outputId": "0eb10c08-9500-4b30-e2da-d9498415d9eb"
      },
      "execution_count": null,
      "outputs": [
        {
          "output_type": "stream",
          "name": "stdout",
          "text": [
            "tamanho da lista 3\n",
            "[1, 2, 3]\n"
          ]
        }
      ]
    },
    {
      "cell_type": "markdown",
      "source": [
        "OBJETOS PROPRIOS"
      ],
      "metadata": {
        "id": "_6AWWXZ4PUw6"
      }
    },
    {
      "cell_type": "code",
      "source": [
        "class ContaCorrente:\n",
        "\n",
        "  def __init__(self, codigo):\n",
        "    self.codigo = codigo\n",
        "    self.saldo = 0\n",
        "\n",
        "  def deposita(self, valor):\n",
        "    self.saldo += valor\n",
        "\n",
        "  def __str__(self):\n",
        "    return \"[>> codigo {}, saldo {}]\".format(self.codigo, self.saldo)"
      ],
      "metadata": {
        "id": "TFaAahfjPW3D"
      },
      "execution_count": null,
      "outputs": []
    },
    {
      "cell_type": "code",
      "source": [
        "conta_do_gui = ContaCorrente(152)\n",
        "print(conta_do_gui)"
      ],
      "metadata": {
        "colab": {
          "base_uri": "https://localhost:8080/"
        },
        "id": "yy4xG8ncRGaF",
        "outputId": "40455a95-222f-4fcc-8464-e6514f2d6987"
      },
      "execution_count": null,
      "outputs": [
        {
          "output_type": "stream",
          "name": "stdout",
          "text": [
            "[>> codigo 152, saldo 0]\n"
          ]
        }
      ]
    },
    {
      "cell_type": "code",
      "source": [
        "conta_do_gui.deposita(100)"
      ],
      "metadata": {
        "id": "XX9WPJOKkuro"
      },
      "execution_count": null,
      "outputs": []
    },
    {
      "cell_type": "code",
      "source": [
        "print(conta_do_gui)"
      ],
      "metadata": {
        "colab": {
          "base_uri": "https://localhost:8080/"
        },
        "id": "YAXpKa-2kyie",
        "outputId": "687fe7b2-ecbb-4cf7-84e2-8bebe7d7ae14"
      },
      "execution_count": null,
      "outputs": [
        {
          "output_type": "stream",
          "name": "stdout",
          "text": [
            "[>> codigo 152, saldo 100]\n"
          ]
        }
      ]
    },
    {
      "cell_type": "code",
      "source": [
        "conta_da_dani = ContaCorrente(321)\n",
        "print(conta_da_dani)"
      ],
      "metadata": {
        "colab": {
          "base_uri": "https://localhost:8080/"
        },
        "id": "uaQhY-Igk2bO",
        "outputId": "9958019d-854e-4b48-ad17-067230fdcb83"
      },
      "execution_count": null,
      "outputs": [
        {
          "output_type": "stream",
          "name": "stdout",
          "text": [
            "[>> codigo 321, saldo 0]\n"
          ]
        }
      ]
    },
    {
      "cell_type": "code",
      "source": [
        "conta_da_dani.deposita(300)\n",
        "print(conta_da_dani)"
      ],
      "metadata": {
        "colab": {
          "base_uri": "https://localhost:8080/"
        },
        "id": "NK1K1SBxlAj3",
        "outputId": "5fe3ec2b-4fd8-4529-ba8b-50b791db0e76"
      },
      "execution_count": null,
      "outputs": [
        {
          "output_type": "stream",
          "name": "stdout",
          "text": [
            "[>> codigo 321, saldo 300]\n"
          ]
        }
      ]
    },
    {
      "cell_type": "code",
      "source": [
        "contas = [conta_da_dani, conta_do_gui]\n",
        "for conta in contas:\n",
        "  print(conta)"
      ],
      "metadata": {
        "colab": {
          "base_uri": "https://localhost:8080/"
        },
        "id": "WdeUuPzQlR5k",
        "outputId": "f3665f18-c676-4ae9-c1ed-c93a592455d6"
      },
      "execution_count": null,
      "outputs": [
        {
          "output_type": "stream",
          "name": "stdout",
          "text": [
            "[>> codigo 321, saldo 300]\n",
            "[>> codigo 152, saldo 100]\n"
          ]
        }
      ]
    },
    {
      "cell_type": "code",
      "source": [
        "camila = 'Camila'\n"
      ],
      "metadata": {
        "id": "LQIhI7xQo-NX"
      },
      "execution_count": null,
      "outputs": []
    },
    {
      "cell_type": "code",
      "source": [
        "cut = camila[:2] #cut string\n",
        "print(cut)"
      ],
      "metadata": {
        "colab": {
          "base_uri": "https://localhost:8080/"
        },
        "id": "iky2ijospCw9",
        "outputId": "0a89e3bc-8ced-4616-be53-85ce8836bf6a"
      },
      "execution_count": null,
      "outputs": [
        {
          "output_type": "stream",
          "name": "stdout",
          "text": [
            "Ca\n"
          ]
        }
      ]
    },
    {
      "cell_type": "code",
      "source": [
        "def deposita_para_todas(contas):\n",
        "  for conta in contas:\n",
        "    conta.deposita(100)\n",
        "\n",
        "conta = [conta_do_gui, conta_da_dani]\n",
        "deposita_para_todas(contas)\n",
        "print(conta[0], conta[1])"
      ],
      "metadata": {
        "colab": {
          "base_uri": "https://localhost:8080/"
        },
        "id": "KQQAZJcOVTow",
        "outputId": "a4f26a70-e0fc-4122-f7da-b5623f197c6a"
      },
      "execution_count": null,
      "outputs": [
        {
          "output_type": "stream",
          "name": "stdout",
          "text": [
            "[>> codigo 152, saldo 200] [>> codigo 321, saldo 400]\n"
          ]
        }
      ]
    },
    {
      "cell_type": "code",
      "source": [
        "conta.insert(0,76)\n",
        "print(conta[0], conta[1], conta[2])"
      ],
      "metadata": {
        "colab": {
          "base_uri": "https://localhost:8080/"
        },
        "id": "mLTlMTkEWKUc",
        "outputId": "16ef6ddf-d824-4d1b-91d2-93c323bb5155"
      },
      "execution_count": null,
      "outputs": [
        {
          "output_type": "stream",
          "name": "stdout",
          "text": [
            "76 [>> codigo 152, saldo 200] [>> codigo 321, saldo 400]\n"
          ]
        }
      ]
    },
    {
      "cell_type": "code",
      "source": [
        "guilherme = ('Guilherme', 32, 1980)\n",
        "daniela = ('Daniela', 30, 1978)"
      ],
      "metadata": {
        "id": "wNlv_uktbIa_"
      },
      "execution_count": null,
      "outputs": []
    },
    {
      "cell_type": "code",
      "source": [
        "usuarios = [guilherme, daniela]\n",
        "usuarios"
      ],
      "metadata": {
        "colab": {
          "base_uri": "https://localhost:8080/"
        },
        "id": "C55KVZ-NwAS8",
        "outputId": "14ba06e6-c3bf-4ce3-c712-9c724bc7d986"
      },
      "execution_count": null,
      "outputs": [
        {
          "output_type": "execute_result",
          "data": {
            "text/plain": [
              "[('Guilherme', 32, 1980), ('Daniela', 30, 1978)]"
            ]
          },
          "metadata": {},
          "execution_count": 4
        }
      ]
    },
    {
      "cell_type": "code",
      "source": [
        "usuarios.append(('Camila', 26, 1996))\n",
        "usuarios"
      ],
      "metadata": {
        "colab": {
          "base_uri": "https://localhost:8080/"
        },
        "id": "OalwCwtUwkRE",
        "outputId": "39e9a120-c749-4d1d-cd83-93b5dbd1788d"
      },
      "execution_count": null,
      "outputs": [
        {
          "output_type": "execute_result",
          "data": {
            "text/plain": [
              "[('Guilherme', 32, 1980),\n",
              " ('Daniela', 30, 1978),\n",
              " ('Camila', 26, 1996),\n",
              " ('Camila', 26, 1996)]"
            ]
          },
          "metadata": {},
          "execution_count": 7
        }
      ]
    },
    {
      "cell_type": "code",
      "source": [
        "usuarios.pop((3))"
      ],
      "metadata": {
        "colab": {
          "base_uri": "https://localhost:8080/"
        },
        "id": "5lYF9RBxwuJc",
        "outputId": "9113bfa7-ecd1-439e-d209-1483f0c23c6c"
      },
      "execution_count": null,
      "outputs": [
        {
          "output_type": "execute_result",
          "data": {
            "text/plain": [
              "('Camila', 26, 1996)"
            ]
          },
          "metadata": {},
          "execution_count": 8
        }
      ]
    },
    {
      "cell_type": "code",
      "source": [
        "usuarios"
      ],
      "metadata": {
        "colab": {
          "base_uri": "https://localhost:8080/"
        },
        "id": "md92fGe3w-HX",
        "outputId": "33e167a0-cf11-4a96-ba16-a2d695175849"
      },
      "execution_count": null,
      "outputs": [
        {
          "output_type": "execute_result",
          "data": {
            "text/plain": [
              "[('Guilherme', 32, 1980), ('Daniela', 30, 1978), ('Camila', 26, 1996)]"
            ]
          },
          "metadata": {},
          "execution_count": 9
        }
      ]
    },
    {
      "cell_type": "code",
      "source": [
        "conta_do_gui = ContaCorrente(15)"
      ],
      "metadata": {
        "id": "R8lR39obw_sl"
      },
      "execution_count": null,
      "outputs": []
    },
    {
      "cell_type": "code",
      "source": [
        "conta_da_dani = ContaCorrente(20)\n",
        "conta_da_dani.deposita(1000)\n",
        "conta_do_gui.deposita(500)"
      ],
      "metadata": {
        "id": "gwZY1SCJx87g"
      },
      "execution_count": null,
      "outputs": []
    },
    {
      "cell_type": "code",
      "source": [
        "contas = (conta_do_gui, conta_da_dani) #tuplas são imutaveis mas o objetos dela conseguimos alterar"
      ],
      "metadata": {
        "id": "5RPUvFgvyLYc"
      },
      "execution_count": null,
      "outputs": []
    },
    {
      "cell_type": "code",
      "source": [
        "for conta in contas: #a tupla não vai mudar de tamanho, mas quem está dentro pode mudar as referências de dentro.\n",
        "  print(conta)"
      ],
      "metadata": {
        "colab": {
          "base_uri": "https://localhost:8080/"
        },
        "id": "OFk9ssqyyRU4",
        "outputId": "40dd6eb5-26e5-4e34-d3f0-8bf441757f7a"
      },
      "execution_count": null,
      "outputs": [
        {
          "output_type": "stream",
          "name": "stdout",
          "text": [
            "[>> codigo 15, saldo 500]\n",
            "[>> codigo 20, saldo 1000]\n"
          ]
        }
      ]
    },
    {
      "cell_type": "code",
      "source": [],
      "metadata": {
        "id": "_KHBnoBMyVgx"
      },
      "execution_count": null,
      "outputs": []
    },
    {
      "cell_type": "markdown",
      "source": [
        "HERANÇA E POLIMORFISMO"
      ],
      "metadata": {
        "id": "Q-H1tCQrzPxl"
      }
    },
    {
      "cell_type": "code",
      "source": [
        "class Conta:\n",
        "\n",
        "  def __init__(self, codigo):\n",
        "    self.codigo = codigo\n",
        "    self._saldo = 0\n",
        "\n",
        "  def deposita(self, valor):\n",
        "    self._saldo += valor\n",
        "\n",
        "  def __str__(self):\n",
        "    return f'>>Codigo: {self.codigo}, Saldo: {self._saldo}<<'"
      ],
      "metadata": {
        "id": "YuejCFhSzT99"
      },
      "execution_count": null,
      "outputs": []
    },
    {
      "cell_type": "code",
      "source": [
        "print(Conta(88))"
      ],
      "metadata": {
        "colab": {
          "base_uri": "https://localhost:8080/"
        },
        "id": "zp-jNxPX0KZr",
        "outputId": "6654df20-5429-48f1-861a-6467c7cba24f"
      },
      "execution_count": null,
      "outputs": [
        {
          "output_type": "stream",
          "name": "stdout",
          "text": [
            ">>Codigo: 88, Saldo: 0<<\n"
          ]
        }
      ]
    },
    {
      "cell_type": "code",
      "source": [
        "class ContaCorrente(Conta):\n",
        "\n",
        "  def passa_o_mes(self):\n",
        "    self._saldo -= 2\n",
        "\n",
        "class ContaPoupanca(Conta):\n",
        "\n",
        "  def passa_o_mes(self):\n",
        "    self._saldo *= 1.01\n",
        "    self._saldo -= 3\n",
        "\n",
        "class ContaInvestimento(Conta):\n",
        "  pass"
      ],
      "metadata": {
        "id": "tLaNu66w0NRi"
      },
      "execution_count": null,
      "outputs": []
    },
    {
      "cell_type": "code",
      "source": [
        "conta16 = ContaCorrente(16)\n",
        "conta16.deposita(1000)\n",
        "conta16.passa_o_mes()\n",
        "print(conta16)"
      ],
      "metadata": {
        "colab": {
          "base_uri": "https://localhost:8080/"
        },
        "id": "1ciyl4Sl0-gW",
        "outputId": "f1bc8d19-6324-4352-887c-fe60d8ba5a5e"
      },
      "execution_count": null,
      "outputs": [
        {
          "output_type": "stream",
          "name": "stdout",
          "text": [
            ">>Codigo: 16, Saldo: 998<<\n"
          ]
        }
      ]
    },
    {
      "cell_type": "code",
      "source": [
        "conta17 = ContaPoupanca(17)\n",
        "conta17.deposita(1000)\n",
        "conta17.passa_o_mes()\n",
        "print(conta17)"
      ],
      "metadata": {
        "colab": {
          "base_uri": "https://localhost:8080/"
        },
        "id": "MnloAlvN1MSw",
        "outputId": "a53966c5-5419-45f3-b55e-dc7a77e940f0"
      },
      "execution_count": null,
      "outputs": [
        {
          "output_type": "stream",
          "name": "stdout",
          "text": [
            ">>Codigo: 17, Saldo: 1007.0<<\n"
          ]
        }
      ]
    },
    {
      "cell_type": "code",
      "source": [
        "conta16 = ContaCorrente(16)\n",
        "conta16.deposita(1000)\n",
        "conta17 = ContaPoupanca(17)\n",
        "conta17.deposita(1000)\n",
        "contas = [conta16, conta17]\n",
        "\n",
        "for conta in contas:\n",
        "  conta.passa_o_mes() #ducktyping (ou seja, se as duas classes tem o msm tipo de função, posso chama-la apenas 1 vez) = polimorfismo\n",
        "  print(conta)"
      ],
      "metadata": {
        "colab": {
          "base_uri": "https://localhost:8080/"
        },
        "id": "_-w4PJqh1gHB",
        "outputId": "110066c5-66aa-4c5d-e76b-d24d478e3b43"
      },
      "execution_count": null,
      "outputs": [
        {
          "output_type": "stream",
          "name": "stdout",
          "text": [
            ">>Codigo: 16, Saldo: 998<<\n",
            ">>Codigo: 17, Saldo: 1007.0<<\n"
          ]
        }
      ]
    },
    {
      "cell_type": "markdown",
      "source": [
        "Array, evitaremos usar"
      ],
      "metadata": {
        "id": "EUP4lb4v2sq9"
      }
    },
    {
      "cell_type": "code",
      "source": [
        "import array as arr\n",
        "\n",
        "arr.array('d', [1, 3.5])"
      ],
      "metadata": {
        "colab": {
          "base_uri": "https://localhost:8080/"
        },
        "id": "jKhR-y9D2vkG",
        "outputId": "9ab76ec3-6e1f-4176-fe9a-1ac7b46b326a"
      },
      "execution_count": null,
      "outputs": [
        {
          "output_type": "execute_result",
          "data": {
            "text/plain": [
              "array('d', [1.0, 3.5])"
            ]
          },
          "metadata": {},
          "execution_count": 28
        }
      ]
    },
    {
      "cell_type": "code",
      "source": [
        "!pip install numpy"
      ],
      "metadata": {
        "colab": {
          "base_uri": "https://localhost:8080/"
        },
        "id": "QhR6CR4f22cW",
        "outputId": "f700d58a-704b-4d10-960b-7bff24089652"
      },
      "execution_count": null,
      "outputs": [
        {
          "output_type": "stream",
          "name": "stdout",
          "text": [
            "Looking in indexes: https://pypi.org/simple, https://us-python.pkg.dev/colab-wheels/public/simple/\n",
            "Requirement already satisfied: numpy in /usr/local/lib/python3.7/dist-packages (1.21.6)\n"
          ]
        }
      ]
    },
    {
      "cell_type": "code",
      "source": [
        "import numpy as np #mais comum usar o numpy para soluções matematicos/ trabalho numericos (principalmente em datasciency)\n",
        "\n",
        "numeros = np.array([1, 1.3])"
      ],
      "metadata": {
        "id": "7zgrmslR3XO-"
      },
      "execution_count": null,
      "outputs": []
    },
    {
      "cell_type": "code",
      "source": [
        "numeros"
      ],
      "metadata": {
        "colab": {
          "base_uri": "https://localhost:8080/"
        },
        "id": "kqSvtGJL3gyW",
        "outputId": "fb05d2f6-604f-4d10-aab3-e296a6455bee"
      },
      "execution_count": null,
      "outputs": [
        {
          "output_type": "execute_result",
          "data": {
            "text/plain": [
              "array([1. , 1.3])"
            ]
          },
          "metadata": {},
          "execution_count": 31
        }
      ]
    },
    {
      "cell_type": "code",
      "source": [
        "numeros +3"
      ],
      "metadata": {
        "colab": {
          "base_uri": "https://localhost:8080/"
        },
        "id": "pb_ja5ZI3hoI",
        "outputId": "f1db28fd-38f9-44e4-f38d-9a99c9f1f02c"
      },
      "execution_count": null,
      "outputs": [
        {
          "output_type": "execute_result",
          "data": {
            "text/plain": [
              "array([4. , 4.3])"
            ]
          },
          "metadata": {},
          "execution_count": 32
        }
      ]
    },
    {
      "cell_type": "code",
      "source": [
        "class ContaSalario:\n",
        "\n",
        "  def __init__(self, codigo):\n",
        "    self.codigo = codigo\n",
        "    self.saldo = 0\n",
        "\n",
        "  def deposita(self, valor):\n",
        "    self.saldo += valor\n",
        "\n",
        "  def __str__(self):\n",
        "    return f'Codigo {self.codigo}, Saldo: {self.saldo}'"
      ],
      "metadata": {
        "id": "luoRHPK33lSt"
      },
      "execution_count": null,
      "outputs": []
    },
    {
      "cell_type": "code",
      "source": [
        "conta1 = ContaSalario(15)"
      ],
      "metadata": {
        "id": "5UG3NOH9arYK"
      },
      "execution_count": null,
      "outputs": []
    },
    {
      "cell_type": "code",
      "source": [
        "conta2 = ContaSalario(15) #mesmo codigo porem objetos diferentes"
      ],
      "metadata": {
        "id": "J1nObekfaxJ7"
      },
      "execution_count": null,
      "outputs": []
    },
    {
      "cell_type": "code",
      "source": [
        "conta1 == conta2"
      ],
      "metadata": {
        "colab": {
          "base_uri": "https://localhost:8080/"
        },
        "id": "CnqkjTdOa1o0",
        "outputId": "8dc7931f-8d2e-41c3-e972-8886fdc490e2"
      },
      "execution_count": null,
      "outputs": [
        {
          "output_type": "execute_result",
          "data": {
            "text/plain": [
              "False"
            ]
          },
          "metadata": {},
          "execution_count": 37
        }
      ]
    },
    {
      "cell_type": "code",
      "source": [
        "contas = [conta1]\n",
        "conta1 in contas"
      ],
      "metadata": {
        "colab": {
          "base_uri": "https://localhost:8080/"
        },
        "id": "ACdjvxbma6eB",
        "outputId": "dc5c9f7e-1e6e-4d9c-b5f9-a871a99a1299"
      },
      "execution_count": null,
      "outputs": [
        {
          "output_type": "execute_result",
          "data": {
            "text/plain": [
              "True"
            ]
          },
          "metadata": {},
          "execution_count": 38
        }
      ]
    },
    {
      "cell_type": "code",
      "source": [
        "conta2 in contas"
      ],
      "metadata": {
        "colab": {
          "base_uri": "https://localhost:8080/"
        },
        "id": "yFYovQTPbGIQ",
        "outputId": "ae14f4e4-6d18-4444-be10-35402eb03c2e"
      },
      "execution_count": null,
      "outputs": [
        {
          "output_type": "execute_result",
          "data": {
            "text/plain": [
              "False"
            ]
          },
          "metadata": {},
          "execution_count": 39
        }
      ]
    },
    {
      "cell_type": "code",
      "source": [
        "class ContaSalario:\n",
        "\n",
        "  def __init__(self, codigo):\n",
        "    self.codigo = codigo\n",
        "    self.saldo = 0\n",
        "\n",
        "  def __eq__(self, outro):\n",
        "    if type(outro) != ContaSalario:\n",
        "      return False\n",
        "    return self.codigo == outro and self.saldo == outro\n",
        "\n",
        "  def deposita(self, valor):\n",
        "    self.saldo += valor\n",
        "\n",
        "  def __str__(self):\n",
        "    return f'Codigo {self.codigo}, Saldo: {self.saldo}'"
      ],
      "metadata": {
        "id": "_4qPXgDSbI-A"
      },
      "execution_count": null,
      "outputs": []
    },
    {
      "cell_type": "code",
      "source": [
        "conta1 = ContaSalario(37)\n",
        "conta2 = ContaSalario(37)\n",
        "conta1 == conta2\n"
      ],
      "metadata": {
        "colab": {
          "base_uri": "https://localhost:8080/"
        },
        "id": "fx0EccD_dDdl",
        "outputId": "97f0f717-bd99-44e1-b85a-5fdc829848eb"
      },
      "execution_count": null,
      "outputs": [
        {
          "output_type": "execute_result",
          "data": {
            "text/plain": [
              "False"
            ]
          },
          "metadata": {},
          "execution_count": 56
        }
      ]
    },
    {
      "cell_type": "code",
      "source": [
        "conta1.deposita(10)"
      ],
      "metadata": {
        "id": "Z6rZsAVXdQOh"
      },
      "execution_count": null,
      "outputs": []
    },
    {
      "cell_type": "code",
      "source": [
        "conta1 == conta2 #false pq a conta1 recebeu 10 reais"
      ],
      "metadata": {
        "colab": {
          "base_uri": "https://localhost:8080/"
        },
        "id": "XJMTNwZTdf1r",
        "outputId": "379f4aee-21e2-4ca6-a973-d1003803cc42"
      },
      "execution_count": null,
      "outputs": [
        {
          "output_type": "execute_result",
          "data": {
            "text/plain": [
              "False"
            ]
          },
          "metadata": {},
          "execution_count": 47
        }
      ]
    },
    {
      "cell_type": "code",
      "source": [
        "isinstance(ContaCorrente(37), ContaCorrente)"
      ],
      "metadata": {
        "colab": {
          "base_uri": "https://localhost:8080/"
        },
        "id": "TFTv2p0Rdhpc",
        "outputId": "1d5e44ca-658b-4e03-ffda-d95eee9ab84d"
      },
      "execution_count": null,
      "outputs": [
        {
          "output_type": "execute_result",
          "data": {
            "text/plain": [
              "True"
            ]
          },
          "metadata": {},
          "execution_count": 61
        }
      ]
    },
    {
      "cell_type": "code",
      "source": [
        "isinstance(ContaCorrente(37), Conta) #objeto do tipo mae ou filha sao iguais/mesmo tipo"
      ],
      "metadata": {
        "colab": {
          "base_uri": "https://localhost:8080/"
        },
        "id": "lA8BvCCEdvTV",
        "outputId": "32a5dae3-679a-4ca1-911a-0c2b4013dd3f"
      },
      "execution_count": null,
      "outputs": [
        {
          "output_type": "execute_result",
          "data": {
            "text/plain": [
              "True"
            ]
          },
          "metadata": {},
          "execution_count": 62
        }
      ]
    },
    {
      "cell_type": "code",
      "source": [
        "idades = [23, 14, 45, 76, 89, 33, 12]"
      ],
      "metadata": {
        "id": "UdQVSt2YfKXg"
      },
      "execution_count": null,
      "outputs": []
    },
    {
      "cell_type": "code",
      "source": [
        "for i in range(len(idades)):\n",
        "  print(i, idades[i])"
      ],
      "metadata": {
        "colab": {
          "base_uri": "https://localhost:8080/"
        },
        "id": "GQGxQcPEgULC",
        "outputId": "f2c3074e-4f02-4be1-874d-42353957d5f3"
      },
      "execution_count": null,
      "outputs": [
        {
          "output_type": "stream",
          "name": "stdout",
          "text": [
            "0 23\n",
            "1 14\n",
            "2 45\n",
            "3 76\n",
            "4 89\n",
            "5 33\n",
            "6 12\n"
          ]
        }
      ]
    },
    {
      "cell_type": "code",
      "source": [
        "frutas = ['banana', 'uva', 'pera', 'morango','abacaxi']"
      ],
      "metadata": {
        "id": "qZKYo6irgppN"
      },
      "execution_count": null,
      "outputs": []
    },
    {
      "cell_type": "code",
      "source": [
        "for i in range(len(frutas)):\n",
        "  print(i, frutas[i]) #i = posicao"
      ],
      "metadata": {
        "colab": {
          "base_uri": "https://localhost:8080/"
        },
        "id": "MwMH8NZ5hoiy",
        "outputId": "3d9195e6-9166-4178-9d47-71b4c4f3328c"
      },
      "execution_count": null,
      "outputs": [
        {
          "output_type": "stream",
          "name": "stdout",
          "text": [
            "0 banana\n",
            "1 uva\n",
            "2 pera\n",
            "3 morango\n",
            "4 abacaxi\n"
          ]
        }
      ]
    },
    {
      "cell_type": "code",
      "source": [
        "enumerate(frutas)"
      ],
      "metadata": {
        "colab": {
          "base_uri": "https://localhost:8080/"
        },
        "id": "_nhHYa_UhsHf",
        "outputId": "693e04c1-c630-40b7-bd68-1dd6406690c3"
      },
      "execution_count": null,
      "outputs": [
        {
          "output_type": "execute_result",
          "data": {
            "text/plain": [
              "<enumerate at 0x7f535e31f230>"
            ]
          },
          "metadata": {},
          "execution_count": 89
        }
      ]
    },
    {
      "cell_type": "code",
      "source": [
        "list(range(len(idades))) #forcei o gerador de range"
      ],
      "metadata": {
        "colab": {
          "base_uri": "https://localhost:8080/"
        },
        "id": "Lw2Cl4NiiUKA",
        "outputId": "40604f97-c17e-47e0-a27d-edb069688b66"
      },
      "execution_count": null,
      "outputs": [
        {
          "output_type": "execute_result",
          "data": {
            "text/plain": [
              "[0, 1, 2, 3, 4, 5, 6]"
            ]
          },
          "metadata": {},
          "execution_count": 90
        }
      ]
    },
    {
      "cell_type": "code",
      "source": [
        "list(enumerate(idades))"
      ],
      "metadata": {
        "colab": {
          "base_uri": "https://localhost:8080/"
        },
        "id": "fibPdaHVjB9x",
        "outputId": "9c212b05-bd3f-4502-a8d3-e0ad9be64655"
      },
      "execution_count": null,
      "outputs": [
        {
          "output_type": "execute_result",
          "data": {
            "text/plain": [
              "[(0, 23), (1, 14), (2, 45), (3, 76), (4, 89), (5, 33), (6, 12)]"
            ]
          },
          "metadata": {},
          "execution_count": 91
        }
      ]
    },
    {
      "cell_type": "code",
      "source": [
        "for i in enumerate(idades):\n",
        "  print(i)"
      ],
      "metadata": {
        "colab": {
          "base_uri": "https://localhost:8080/"
        },
        "id": "bmQfuweojFtF",
        "outputId": "8d0f08cc-b239-4578-ca33-9d921adfa808"
      },
      "execution_count": null,
      "outputs": [
        {
          "output_type": "stream",
          "name": "stdout",
          "text": [
            "(0, 23)\n",
            "(1, 14)\n",
            "(2, 45)\n",
            "(3, 76)\n",
            "(4, 89)\n",
            "(5, 33)\n",
            "(6, 12)\n"
          ]
        }
      ]
    },
    {
      "cell_type": "code",
      "source": [
        "for i in enumerate(frutas):\n",
        "  print(i)"
      ],
      "metadata": {
        "colab": {
          "base_uri": "https://localhost:8080/"
        },
        "id": "6P-vAl0yjXL1",
        "outputId": "059c1dde-4b93-4603-c690-beae1eb1214a"
      },
      "execution_count": null,
      "outputs": [
        {
          "output_type": "stream",
          "name": "stdout",
          "text": [
            "(0, 'banana')\n",
            "(1, 'uva')\n",
            "(2, 'pera')\n",
            "(3, 'morango')\n",
            "(4, 'abacaxi')\n"
          ]
        }
      ]
    },
    {
      "cell_type": "code",
      "source": [
        "for indice, frutas in enumerate(frutas): #fazendo o unpacking da tupla\n",
        "    print(indice, frutas)"
      ],
      "metadata": {
        "colab": {
          "base_uri": "https://localhost:8080/"
        },
        "id": "FVL6wd2Zjc2j",
        "outputId": "b44dd3d0-ff5d-4a95-83c5-ec71fd997657"
      },
      "execution_count": null,
      "outputs": [
        {
          "output_type": "stream",
          "name": "stdout",
          "text": [
            "0 banana\n",
            "1 uva\n",
            "2 pera\n",
            "3 morango\n",
            "4 abacaxi\n"
          ]
        }
      ]
    },
    {
      "cell_type": "code",
      "source": [
        "usuarios = [('Gabriela', 26, 1996), ('Nayara', 27, 1995), ('Maria', 50, 1980)]"
      ],
      "metadata": {
        "id": "gXNhKsiAkAPX"
      },
      "execution_count": null,
      "outputs": []
    },
    {
      "cell_type": "code",
      "source": [
        "for usuario in usuarios:\n",
        "  print(usuario)"
      ],
      "metadata": {
        "colab": {
          "base_uri": "https://localhost:8080/"
        },
        "id": "MICdQiJ5lhFX",
        "outputId": "3c894c96-ae17-41ff-e43b-024d0f5aba58"
      },
      "execution_count": null,
      "outputs": [
        {
          "output_type": "stream",
          "name": "stdout",
          "text": [
            "('Gabriela', 26, 1996)\n",
            "('Nayara', 27, 1995)\n",
            "('Maria', 50, 1980)\n"
          ]
        }
      ]
    },
    {
      "cell_type": "code",
      "source": [
        "for nome, idade, nascimento in usuarios: #unpacking\n",
        "  print(nome)"
      ],
      "metadata": {
        "colab": {
          "base_uri": "https://localhost:8080/"
        },
        "id": "qqXoae3klnQV",
        "outputId": "d15417cf-8e21-4f40-a79b-d46774c7d5ed"
      },
      "execution_count": null,
      "outputs": [
        {
          "output_type": "stream",
          "name": "stdout",
          "text": [
            "Gabriela\n",
            "Nayara\n",
            "Maria\n"
          ]
        }
      ]
    },
    {
      "cell_type": "code",
      "source": [
        "for nome, _, _ in usuarios: #ignorando o resto dos elementos\n",
        "  print(nome)"
      ],
      "metadata": {
        "colab": {
          "base_uri": "https://localhost:8080/"
        },
        "id": "B_b8BsN4lyBa",
        "outputId": "b9659482-b3c0-4f6e-b9a8-7708dcf5ab5a"
      },
      "execution_count": null,
      "outputs": [
        {
          "output_type": "stream",
          "name": "stdout",
          "text": [
            "Gabriela\n",
            "Nayara\n",
            "Maria\n"
          ]
        }
      ]
    },
    {
      "cell_type": "code",
      "source": [
        "sorted(idades) #ordenar crescente"
      ],
      "metadata": {
        "colab": {
          "base_uri": "https://localhost:8080/"
        },
        "id": "9ScWxIgUmYwG",
        "outputId": "41f160b9-7b56-4c2a-8bac-2299255b3423"
      },
      "execution_count": null,
      "outputs": [
        {
          "output_type": "execute_result",
          "data": {
            "text/plain": [
              "[12, 14, 23, 33, 45, 76, 89]"
            ]
          },
          "metadata": {},
          "execution_count": 113
        }
      ]
    },
    {
      "cell_type": "code",
      "source": [
        "12<89"
      ],
      "metadata": {
        "colab": {
          "base_uri": "https://localhost:8080/"
        },
        "id": "26d6VvNVn1n_",
        "outputId": "e618d148-e3e1-4a52-ee8f-f80cbfe6bd82"
      },
      "execution_count": null,
      "outputs": [
        {
          "output_type": "execute_result",
          "data": {
            "text/plain": [
              "True"
            ]
          },
          "metadata": {},
          "execution_count": 111
        }
      ]
    },
    {
      "cell_type": "code",
      "source": [
        "list(reversed(idades))"
      ],
      "metadata": {
        "colab": {
          "base_uri": "https://localhost:8080/"
        },
        "id": "yIrcvAHRnZl6",
        "outputId": "78968152-b814-4cd1-9ebd-81af3313afbd"
      },
      "execution_count": null,
      "outputs": [
        {
          "output_type": "execute_result",
          "data": {
            "text/plain": [
              "[12, 33, 89, 76, 45, 14, 23]"
            ]
          },
          "metadata": {},
          "execution_count": 114
        }
      ]
    },
    {
      "cell_type": "code",
      "source": [
        "sorted(idades, reverse=True) #ordenar decrescente"
      ],
      "metadata": {
        "colab": {
          "base_uri": "https://localhost:8080/"
        },
        "id": "VslwKA9Unj8t",
        "outputId": "91ffe002-0e32-46d8-e1a7-8a3d0eba4e36"
      },
      "execution_count": null,
      "outputs": [
        {
          "output_type": "execute_result",
          "data": {
            "text/plain": [
              "[89, 76, 45, 33, 23, 14, 12]"
            ]
          },
          "metadata": {},
          "execution_count": 115
        }
      ]
    },
    {
      "cell_type": "code",
      "source": [
        "sorted(idades)"
      ],
      "metadata": {
        "colab": {
          "base_uri": "https://localhost:8080/"
        },
        "id": "KatqtvpzpBR0",
        "outputId": "3cecd5a7-6d3a-45e4-87aa-383b99830889"
      },
      "execution_count": null,
      "outputs": [
        {
          "output_type": "execute_result",
          "data": {
            "text/plain": [
              "[12, 14, 23, 33, 45, 76, 89]"
            ]
          },
          "metadata": {},
          "execution_count": 116
        }
      ]
    },
    {
      "cell_type": "code",
      "source": [
        "idades"
      ],
      "metadata": {
        "colab": {
          "base_uri": "https://localhost:8080/"
        },
        "id": "CvG10-5NpGrR",
        "outputId": "c6fcff67-258a-4863-980e-1d05e1170abd"
      },
      "execution_count": null,
      "outputs": [
        {
          "output_type": "execute_result",
          "data": {
            "text/plain": [
              "[23, 14, 45, 76, 89, 33, 12]"
            ]
          },
          "metadata": {},
          "execution_count": 117
        }
      ]
    },
    {
      "cell_type": "code",
      "source": [
        "idades.sort() #ordena inplace ; na variavel\n",
        "idades"
      ],
      "metadata": {
        "colab": {
          "base_uri": "https://localhost:8080/"
        },
        "id": "Y2MDLQI9pxLu",
        "outputId": "56b11ff4-0c0d-48b1-ee3f-4625c13bf904"
      },
      "execution_count": null,
      "outputs": [
        {
          "output_type": "execute_result",
          "data": {
            "text/plain": [
              "[12, 14, 23, 33, 45, 76, 89]"
            ]
          },
          "metadata": {},
          "execution_count": 119
        }
      ]
    },
    {
      "cell_type": "code",
      "source": [
        "for i in enumerate(frutas):\n",
        "  print(i)\n",
        "sorted(frutas)"
      ],
      "metadata": {
        "colab": {
          "base_uri": "https://localhost:8080/"
        },
        "id": "599iPSU3pzJ1",
        "outputId": "4ec6d70a-dfe6-4049-b6b3-a50e458fafab"
      },
      "execution_count": null,
      "outputs": [
        {
          "output_type": "stream",
          "name": "stdout",
          "text": [
            "(0, 'banana')\n",
            "(1, 'uva')\n",
            "(2, 'pera')\n",
            "(3, 'morango')\n",
            "(4, 'abacaxi')\n"
          ]
        },
        {
          "output_type": "execute_result",
          "data": {
            "text/plain": [
              "['abacaxi', 'banana', 'morango', 'pera', 'uva']"
            ]
          },
          "metadata": {},
          "execution_count": 128
        }
      ]
    },
    {
      "cell_type": "code",
      "source": [
        "from operator import attrgetter"
      ],
      "metadata": {
        "id": "qwE_2uoysFwc"
      },
      "execution_count": null,
      "outputs": []
    },
    {
      "cell_type": "code",
      "source": [
        "for conta in sorted(contas, key=attrgetter('_saldo')): #ordenando saldo com operator getter\n",
        "  print(conta)"
      ],
      "metadata": {
        "colab": {
          "base_uri": "https://localhost:8080/"
        },
        "id": "81G9Qr_KveU-",
        "outputId": "1678ad3c-b00b-495e-b75b-3498af81cfae"
      },
      "execution_count": null,
      "outputs": [
        {
          "output_type": "stream",
          "name": "stdout",
          "text": [
            ">>Codigo: 15, Saldo: 500<<\n",
            ">>Codigo: 20, Saldo: 1000<<\n"
          ]
        }
      ]
    },
    {
      "cell_type": "code",
      "source": [],
      "metadata": {
        "id": "3naJEgVovtFO"
      },
      "execution_count": null,
      "outputs": []
    }
  ]
}